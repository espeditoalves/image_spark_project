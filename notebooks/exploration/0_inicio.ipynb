{
 "cells": [
  {
   "cell_type": "code",
   "execution_count": 1,
   "metadata": {},
   "outputs": [
    {
     "name": "stdout",
     "output_type": "stream",
     "text": [
      "+---------+-----+\n",
      "|     Name|Value|\n",
      "+---------+-----+\n",
      "|    Alice|    1|\n",
      "|      Bob|    2|\n",
      "|Catherine|    3|\n",
      "+---------+-----+\n",
      "\n"
     ]
    }
   ],
   "source": [
    "# Importar as bibliotecas necessárias\n",
    "from pyspark.sql import SparkSession\n",
    "\n",
    "# Iniciar uma sessão Spark\n",
    "spark = SparkSession.builder \\\n",
    "    .appName(\"Teste PySpark\") \\\n",
    "    .getOrCreate()\n",
    "\n",
    "# Criar um DataFrame de exemplo\n",
    "data = [(\"Alice\", 1), (\"Bob\", 2), (\"Catherine\", 3)]\n",
    "df = spark.createDataFrame(data, [\"Name\", \"Value\"])\n",
    "\n",
    "# Mostrar o DataFrame\n",
    "df.show()"
   ]
  },
  {
   "cell_type": "code",
   "execution_count": 14,
   "metadata": {},
   "outputs": [],
   "source": [
    "# Caminho absoluto onde deseja salvar o arquivo CSV\n",
    "path_to_save = \"/home/jovyan/work/data/processed/meu_arquivo22.csv\"\n",
    "# Salvar o DataFrame como CSV\n",
    "df.write.csv(path_to_save, header=True, mode=\"overwrite\")"
   ]
  },
  {
   "cell_type": "markdown",
   "metadata": {},
   "source": []
  }
 ],
 "metadata": {
  "kernelspec": {
   "display_name": "Python 3 (ipykernel)",
   "language": "python",
   "name": "python3"
  },
  "language_info": {
   "codemirror_mode": {
    "name": "ipython",
    "version": 3
   },
   "file_extension": ".py",
   "mimetype": "text/x-python",
   "name": "python",
   "nbconvert_exporter": "python",
   "pygments_lexer": "ipython3",
   "version": "3.10.10"
  }
 },
 "nbformat": 4,
 "nbformat_minor": 2
}
